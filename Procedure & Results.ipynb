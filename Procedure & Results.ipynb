{
 "cells": [
  {
   "cell_type": "markdown",
   "metadata": {},
   "source": [
    "# Spam/Ham Classifier<br>\n",
    "\n",
    "**Submitted By:** Divij Bhatia, divijbha@usc.edu<br>\n",
    "### Steps:<br>\n",
    ">**1.** Load the dataset<br>\n",
    ">**2.** Extract features and labels<br>\n",
    ">**3.** Shuffle the features and labels with respect to each other<br>\n",
    ">**4.** Define the value of k for k-fold cross validation<br>\n",
    ">**5.** For every fold from 1 to k do the following:<br>\n",
    ">>**5.1** Extract the training and testing dataset from the features and labels extracted in step 2<br>\n",
    ">>**5.2** Train the classifier on the training dataset to generate a model M<br>\n",
    ">>**5.3** Predict the labels of testing data using the model M<br>\n",
    ">>**5.4** Compare the predicted values with the actual labels to calculate the false positive rate, false negative rate and overall error rate.<br>\n",
    "\n",
     ">**6.** Tune the hyperparameters based on the performance of the model<br>\n",
    "### Properties of the Classifier:\n",
    "\n",
    ">**K:** 10 _(10-Fold Cross Validation)_<br>\n",
    ">**Classifier Used:** Multi Layer Perceptron<br>\n",
    ">**Layers:** 1 Input Layer : 57 Nodes, 1 Hidden Layer : 50 Nodes, 1 Output Layer : 2 Nodes<br>\n",
    ">**Activation Function:** ReLU<br>\n",
    ">**Solver:** Adam<br>\n",
    ">**Learning Rate**: Inverse Scaled<br>\n",
    ">**Initial Learning Rate:** 0.0001<br>\n",
    ">**Epochs:** 500 _(Maximum)_<br>\n",
    "\n",
    "\n",
    "### Results:<br>\n",
    "\n",
    "\n",
    "| K | False Positive Rate | False Negative Rate | Overall Error Rate |\n",
    "| --- | --- | --- | --- |\n",
    "| 1 | 0.045627376 | 0.091370558 | 0.065217391 | \n",
    "| 2 | 0.054545455 | 0.118918919 | 0.080434783 | \n",
    "| 3 | 0.042402827 | 0.11299435 | 0.069565217 | \n",
    "| 4 | 0.029090909 | 0.075675676 | 0.047826087 | \n",
    "| 5 | 0.063670412 | 0.067357513 | 0.065217391 | \n",
    "| 6 | 0.037037037 | 0.105263158 | 0.065217391 | \n",
    "| 7 | 0.037288136 | 0.121212121 | 0.067391304 | \n",
    "| 8 | 0.054151625 | 0.081967213 | 0.065217391 | \n",
    "| 9 | 0.046357616 | 0.069620253 | 0.054347826 | \n",
    "| 10 | 0.082142857 | 0.055555556 | 0.07173913 | \n",
    "| **Average** | **0.049231425** | **0.089993532** | **0.065217391** | \n",
    "\n"
   ]
  },
  {
   "cell_type": "markdown",
   "metadata": {},
   "source": [
    "### Code:\n",
    "#### Import Packages"
   ]
  },
  {
   "cell_type": "code",
   "execution_count": null,
   "metadata": {},
   "outputs": [],
   "source": [
    "import numpy as np\n",
    "from sklearn.utils import shuffle\n",
    "from sklearn.neural_network import MLPClassifier"
   ]
  },
  {
   "cell_type": "markdown",
   "metadata": {},
   "source": [
    "#### Read & Preprocess the Dataset"
   ]
  },
  {
   "cell_type": "code",
   "execution_count": null,
   "metadata": {},
   "outputs": [],
   "source": [
    "#read datafile\n",
    "data = np.genfromtxt('spambase.data', delimiter=',',dtype='float')\n",
    "\n",
    "#extract features\n",
    "features=data[:,:-1]\n",
    "\n",
    "#extract labels i.e. last column in the data file\n",
    "labels = data[:,-1]\n",
    "\n",
    "# shuffle the data\n",
    "features,labels = shuffle(features,labels, random_state=0)"
   ]
  },
  {
   "cell_type": "markdown",
   "metadata": {},
   "source": [
    "#### Define Parameters"
   ]
  },
  {
   "cell_type": "code",
   "execution_count": null,
   "metadata": {},
   "outputs": [],
   "source": [
    "#defining parameters for k-fold cross validation\n",
    "n=len(data) #size of data\n",
    "k=10 \n",
    "len_of_fold=int(n/k) #size of one of the k segments or the size of test data\n",
    "l_index=0 #initial starting index of test data\n",
    "h_index=len_of_fold #initial ending index of test data"
   ]
  },
  {
   "cell_type": "markdown",
   "metadata": {},
   "source": [
    "#### Train & Test using K-Fold Cross Validation"
   ]
  },
  {
   "cell_type": "code",
   "execution_count": null,
   "metadata": {},
   "outputs": [],
   "source": [
    "for i in range(k):\n",
    "    #extract test dataset from all the features\n",
    "    features_test=features[l_index:h_index]\n",
    "    \n",
    "    #extract actual labels of test dataset\n",
    "    labels_test=labels[l_index:h_index]\n",
    "    \n",
    "    #count number of spam examples in test set\n",
    "    spam_test_ex=np.count_nonzero(labels_test)\n",
    "    \n",
    "    #count number of non-spam examples in test set\n",
    "    #count_of_non_spam_examples_in_test_dataset = size_of_test_dataset - count_of_spam_examples_in_test_data \n",
    "    non_spam_test_ex=len_of_fold-spam_test_ex\n",
    "    \n",
    "    #extracting training dataset features\n",
    "    features_train=np.concatenate((features[0:l_index],features[h_index:]),axis=0)\n",
    "    \n",
    "    #extracting training dataset labels\n",
    "    labels_train=np.concatenate((labels[0:l_index],labels[h_index:]),axis=0)\n",
    "    \n",
    "    #Instantiating Multi-Layered Perceptron (MLP)\n",
    "    classifier = MLPClassifier(hidden_layer_sizes=(50,), activation='relu', solver='adam', learning_rate='invscaling', learning_rate_init=0.0001, power_t=0.5, max_iter=500)\n",
    "    \n",
    "    #Training MLP\n",
    "    classifier.fit(features_train,labels_train)\n",
    "    \n",
    "    #Testing data using the trained model\n",
    "    prediction=classifier.predict(features_test)\n",
    "    \n",
    "    #counting misclassified examples\n",
    "    fp=0 #false_positive_counter initialized to 0\n",
    "    fn=0 #false_negative_counter initialized to 0\n",
    "    \n",
    "    for j in range(len_of_fold):\n",
    "        #false_positive_counter is incremented if a non_spam email is classified as spam\n",
    "        if prediction[j]==1 and prediction[j]!=labels_test[j]:\n",
    "            fp+=1\n",
    "        #false_negative_counter is incremented if a spam email is classified as non_spam\n",
    "        elif prediction[j]==0 and prediction[j]!=labels_test[j]:\n",
    "            fn+=1\n",
    "    \n",
    "    #printing K, false_positive_rate, false_negative_rate, overall_error_rate\n",
    "    print(i+1,\",\",fp/non_spam_test_ex,\",\",fn/spam_test_ex,\",\",(fp+fn)/len_of_fold)\n",
    "    \n",
    "    #incrementing the indexes of the test dataset\n",
    "    l_index+=len_of_fold\n",
    "    h_index+=len_of_fold"
   ]
  }
 ],
 "metadata": {
  "kernelspec": {
   "display_name": "Python 3",
   "language": "python",
   "name": "python3"
  },
  "language_info": {
   "codemirror_mode": {
    "name": "ipython",
    "version": 3
   },
   "file_extension": ".py",
   "mimetype": "text/x-python",
   "name": "python",
   "nbconvert_exporter": "python",
   "pygments_lexer": "ipython3",
   "version": "3.7.1"
  }
 },
 "nbformat": 4,
 "nbformat_minor": 2
}
